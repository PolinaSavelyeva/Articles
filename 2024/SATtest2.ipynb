{
 "cells": [
  {
   "cell_type": "markdown",
   "id": "b0f0d38c-f3d1-47c6-8504-b5849779d4bf",
   "metadata": {},
   "source": [
    "# Описание тестового стенда"
   ]
  },
  {
   "cell_type": "markdown",
   "id": "5911c71b-4458-4f3d-a3d6-63b32a8154f0",
   "metadata": {},
   "source": [
    "### Характеристики тестового стенда:"
   ]
  },
  {
   "cell_type": "markdown",
   "id": "d72dc742-2476-4460-84f6-d0aca09e8596",
   "metadata": {},
   "source": [
    "- OS: Ubuntu 22.04.4 LTS;"
   ]
  },
  {
   "cell_type": "markdown",
   "id": "2b9fcfe5-b280-4f4a-8af1-0942b41a4625",
   "metadata": {},
   "source": [
    "- CPU: AMD Ryzen 5 5600X"
   ]
  },
  {
   "cell_type": "markdown",
   "id": "2f8ee034-1bbb-4e81-9442-535268676e35",
   "metadata": {},
   "source": [
    "- CPU min frequency: 2.20 GHz;"
   ]
  },
  {
   "cell_type": "markdown",
   "id": "46a74977-2a11-4f37-8237-5c2c9047abb0",
   "metadata": {},
   "source": [
    "- RAM Volume: 16Gb."
   ]
  },
  {
   "cell_type": "markdown",
   "id": "fe071580-d291-4daf-a5df-4d51accafaf3",
   "metadata": {},
   "source": [
    "### Подготовка тестового стенда:"
   ]
  },
  {
   "cell_type": "markdown",
   "id": "a63501dc-5ace-4e78-8fc6-69a1ea005621",
   "metadata": {},
   "source": [
    "- обновление системы и выключение ненужных фоновых процессов;  "
   ]
  },
  {
   "cell_type": "markdown",
   "id": "2300330c-5fe2-40b3-bd10-3df55322bd08",
   "metadata": {},
   "source": [
    "- привязка искомого процесса к ядру с номером 0 командой `taskset 0x1 ./MySat/bin/Release/net7.0/MySat`;"
   ]
  },
  {
   "cell_type": "markdown",
   "id": "308a00e5-d6e9-4f9f-a12b-8e84b215daba",
   "metadata": {},
   "source": [
    "- установка частоты (минимально возможной для процессора) командой `cpupower frequency-set -f 2.20GHz`;"
   ]
  },
  {
   "cell_type": "markdown",
   "id": "e28c81c6-8ff6-4559-8e24-4e1023e2d83f",
   "metadata": {},
   "source": [
    "- сборка проекта в Release командой `dotnet build -c Release`;"
   ]
  },
  {
   "cell_type": "markdown",
   "id": "d737c016-2031-4f76-b9fe-01d7240829bd",
   "metadata": {},
   "source": [
    "- разогрев .NET машины."
   ]
  },
  {
   "cell_type": "markdown",
   "id": "63a6059e-6c1d-4ec7-b20a-fffd8dada424",
   "metadata": {},
   "source": [
    "# Набор входных данных"
   ]
  },
  {
   "cell_type": "markdown",
   "id": "cd5408ce-78e0-4d33-a44a-aad70c04f6a6",
   "metadata": {},
   "source": [
    "Для измерений были выбраны данные, на обработку которых при описанных настройках тестового стенда требуется около 4 секунд. Тестовый набор состоит из 75 переменных и 325 дизъюнктов и не является выполнимой булевой формулой. Для отсчета времени (в миллисекундах) используется .NET класс `Stopwatch`. Тестовые данные содержатся в файле `dataset.cnf` в репозитории [проекта](https://github.com/PolinaSavelyeva/MySat/tree/bench)."
   ]
  },
  {
   "cell_type": "markdown",
   "id": "ccfa61e0-9fe1-4ad8-9098-32f993f81588",
   "metadata": {},
   "source": [
    "# Результаты измерения"
   ]
  },
  {
   "cell_type": "markdown",
   "id": "a8747ffd-f05e-44d7-88f5-65fc99fb0f85",
   "metadata": {},
   "source": [
    "Результаты измерений представлены в переменной `t`:"
   ]
  },
  {
   "cell_type": "code",
   "execution_count": 1,
   "id": "27baff10-0814-485f-b0e7-3bfa7c34c113",
   "metadata": {},
   "outputs": [],
   "source": [
    "import matplotlib.pylab as plt\n",
    "from scipy import stats\n",
    "import numpy as np\n",
    "import math\n",
    "\n",
    "m = open(\"result2.txt\", \"r\")\n",
    "t = [float(x.strip()) for x in m.readlines()]"
   ]
  },
  {
   "cell_type": "markdown",
   "id": "3ec3d94b-4f22-4aba-a43c-1ff837db6a11",
   "metadata": {},
   "source": [
    "### Гистограмма"
   ]
  },
  {
   "cell_type": "code",
   "execution_count": 2,
   "id": "bd4796a9-afaf-4a3e-a761-86dc048c7e54",
   "metadata": {},
   "outputs": [
    {
     "data": {
      "text/plain": [
       "(array([ 9.,  3.,  0.,  1.,  6., 15.,  1.,  0.,  1.,  4.]),\n",
       " array([3358.3061 , 3361.40424, 3364.50238, 3367.60052, 3370.69866,\n",
       "        3373.7968 , 3376.89494, 3379.99308, 3383.09122, 3386.18936,\n",
       "        3389.2875 ]),\n",
       " <BarContainer object of 10 artists>)"
      ]
     },
     "execution_count": 2,
     "metadata": {},
     "output_type": "execute_result"
    },
    {
     "data": {
      "image/png": "[encoded data removed]",
      "text/plain": [
       "<Figure size 640x480 with 1 Axes>"
      ]
     },
     "metadata": {},
     "output_type": "display_data"
    }
   ],
   "source": [
    "plt.hist(t)"
   ]
  },
  {
   "cell_type": "markdown",
   "id": "5a014974-a13c-443c-a474-a09690e86596",
   "metadata": {},
   "source": [
    "### Тест на нормальность"
   ]
  },
  {
   "cell_type": "code",
   "execution_count": 3,
   "id": "1d263e15-1299-4c24-b0de-f29398902012",
   "metadata": {},
   "outputs": [
    {
     "data": {
      "text/plain": [
       "ShapiroResult(statistic=0.9019501402237715, pvalue=0.002179585761888385)"
      ]
     },
     "execution_count": 3,
     "metadata": {},
     "output_type": "execute_result"
    }
   ],
   "source": [
    "stats.shapiro(t)"
   ]
  },
  {
   "cell_type": "code",
   "execution_count": 4,
   "id": "fbcefa68-a78c-465d-a4d3-b9232cb340df",
   "metadata": {},
   "outputs": [
    {
     "data": {
      "text/plain": [
       "NormaltestResult(statistic=0.6581557214905126, pvalue=0.7195869869867608)"
      ]
     },
     "execution_count": 4,
     "metadata": {},
     "output_type": "execute_result"
    }
   ],
   "source": [
    "stats.normaltest(t)"
   ]
  },
  {
   "cell_type": "markdown",
   "id": "d5281188-6b31-4e1b-9a44-4729d2911445",
   "metadata": {},
   "source": [
    "Тест на нормальность пройден, p-value > 0.05."
   ]
  },
  {
   "cell_type": "markdown",
   "id": "37ed7ace-bccd-462c-95da-684642b5050d",
   "metadata": {},
   "source": [
    "### Среднее"
   ]
  },
  {
   "cell_type": "code",
   "execution_count": 5,
   "id": "39e8358c-8b45-4666-a144-0f5a22872dd9",
   "metadata": {},
   "outputs": [
    {
     "name": "stdout",
     "output_type": "stream",
     "text": [
      "3371.745525\n"
     ]
    }
   ],
   "source": [
    "mean = np.mean(t)\n",
    "print(mean)"
   ]
  },
  {
   "cell_type": "markdown",
   "id": "f08f2592-979f-4bf9-a471-f6222bc65b97",
   "metadata": {},
   "source": [
    "### Стандартное отклонение"
   ]
  },
  {
   "cell_type": "code",
   "execution_count": 6,
   "id": "da0782c7-563d-4afc-aa17-3fd1b6971504",
   "metadata": {},
   "outputs": [
    {
     "name": "stdout",
     "output_type": "stream",
     "text": [
      "8.864885055142972\n"
     ]
    }
   ],
   "source": [
    "std = np.std(t, ddof=1)\n",
    "print(std)"
   ]
  },
  {
   "cell_type": "markdown",
   "id": "6c80e3b0-6b65-4e13-a53e-f5b330a7d555",
   "metadata": {},
   "source": [
    "Доля стандартного отклонения от среднего составляет:"
   ]
  },
  {
   "cell_type": "code",
   "execution_count": 7,
   "id": "5a6fa54d-939c-489f-a595-ffd7ab0d0e55",
   "metadata": {},
   "outputs": [
    {
     "data": {
      "text/plain": [
       "0.26291678863110446"
      ]
     },
     "execution_count": 7,
     "metadata": {},
     "output_type": "execute_result"
    }
   ],
   "source": [
    "std/mean * 100"
   ]
  },
  {
   "cell_type": "markdown",
   "id": "91705329-438b-4ad1-ba09-5090a435380f",
   "metadata": {},
   "source": [
    "### Стандартное отклонение среднего"
   ]
  },
  {
   "cell_type": "code",
   "execution_count": 8,
   "id": "bd552fe3-43ff-4fa1-b6d2-beb29dc707cf",
   "metadata": {},
   "outputs": [
    {
     "data": {
      "text/plain": [
       "1.4016613984919575"
      ]
     },
     "execution_count": 8,
     "metadata": {},
     "output_type": "execute_result"
    }
   ],
   "source": [
    "std/math.sqrt(len(t))"
   ]
  },
  {
   "cell_type": "markdown",
   "id": "6df7bd56-aa36-44f9-be18-4edfe3833029",
   "metadata": {},
   "source": [
    "### Доверительный интервал 95%"
   ]
  },
  {
   "cell_type": "code",
   "execution_count": 9,
   "id": "9e74fb81-2c90-4d5f-80c3-cb323f290060",
   "metadata": {},
   "outputs": [
    {
     "name": "stdout",
     "output_type": "stream",
     "text": [
      "2.8351277836957096\n"
     ]
    }
   ],
   "source": [
    "interv = stats.t.ppf(0.975, df=len(t)-1) * stats.sem(t)\n",
    "print(interv)"
   ]
  },
  {
   "cell_type": "code",
   "execution_count": 10,
   "id": "3464b2e7-8e02-4549-884e-47d203f98c11",
   "metadata": {},
   "outputs": [
    {
     "name": "stdout",
     "output_type": "stream",
     "text": [
      "Интервал: 3372 ± 3\n"
     ]
    }
   ],
   "source": [
    "print(\"Интервал:\", round(mean), u\"\\u00B1\", round(interv))"
   ]
  }
 ],
 "metadata": {
  "kernelspec": {
   "display_name": "Python 3 (ipykernel)",
   "language": "python",
   "name": "python3"
  },
  "language_info": {
   "codemirror_mode": {
    "name": "ipython",
    "version": 3
   },
   "file_extension": ".py",
   "mimetype": "text/x-python",
   "name": "python",
   "nbconvert_exporter": "python",
   "pygments_lexer": "ipython3",
   "version": "3.10.12"
  }
 },
 "nbformat": 4,
 "nbformat_minor": 5
}
